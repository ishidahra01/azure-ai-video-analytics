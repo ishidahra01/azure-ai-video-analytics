{
 "cells": [
  {
   "cell_type": "code",
   "execution_count": null,
   "metadata": {},
   "outputs": [],
   "source": [
    "! pip install pytube"
   ]
  },
  {
   "cell_type": "code",
   "execution_count": null,
   "metadata": {},
   "outputs": [],
   "source": [
    "from pytube import YouTube\n",
    "\n",
    "# URL of the YouTube video you want to download\n",
    "video_url = 'https://www.youtube.com/watch?v=vBCrJaLseQc'\n",
    "\n",
    "try:\n",
    "    # Create a YouTube object\n",
    "    yt = YouTube(video_url)\n",
    "\n",
    "    # Get the highest resolution stream available\n",
    "    stream = yt.streams.get_highest_resolution()\n",
    "\n",
    "    # Download the video\n",
    "    stream.download(output_path='data', filename='keynote_ms_build_2024.mp4')\n",
    "\n",
    "    print(\"Download completed successfully!\")\n",
    "\n",
    "except Exception as e:\n",
    "    print(f\"An error occurred: {e}\")\n"
   ]
  },
  {
   "cell_type": "code",
   "execution_count": null,
   "metadata": {},
   "outputs": [],
   "source": []
  }
 ],
 "metadata": {
  "kernelspec": {
   "display_name": ".venv",
   "language": "python",
   "name": "python3"
  },
  "language_info": {
   "codemirror_mode": {
    "name": "ipython",
    "version": 3
   },
   "file_extension": ".py",
   "mimetype": "text/x-python",
   "name": "python",
   "nbconvert_exporter": "python",
   "pygments_lexer": "ipython3",
   "version": "3.12.5"
  }
 },
 "nbformat": 4,
 "nbformat_minor": 2
}
